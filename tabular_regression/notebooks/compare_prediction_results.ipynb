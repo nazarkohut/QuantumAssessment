{
 "cells": [
  {
   "metadata": {},
   "cell_type": "markdown",
   "source": [
    "# Hidden test output comparison\n",
    "\n",
    "***In this notebook we compare results retrieved by same model, but inference for which has been done on different platforms(locally and using `predict.py`)***"
   ],
   "id": "9a1e5824a5f96414"
  },
  {
   "metadata": {
    "ExecuteTime": {
     "end_time": "2024-11-28T02:27:23.748385Z",
     "start_time": "2024-11-28T02:27:23.743449Z"
    }
   },
   "cell_type": "code",
   "source": "import pandas as pd",
   "id": "edefb6130128e99d",
   "outputs": [],
   "execution_count": 8
  },
  {
   "metadata": {
    "ExecuteTime": {
     "end_time": "2024-11-28T02:22:27.611168Z",
     "start_time": "2024-11-28T02:22:27.577625Z"
    }
   },
   "cell_type": "code",
   "source": [
    "kaggle_predictions = pd.read_csv(\"../data/prediction_results/auto_gluon.csv\")\n",
    "kaggle_predictions_from_predict = pd.read_csv(\"../data/prediction_results/predict_auto_gluon.csv\")"
   ],
   "id": "d976918a7f6d000a",
   "outputs": [],
   "execution_count": 2
  },
  {
   "metadata": {
    "ExecuteTime": {
     "end_time": "2024-11-28T02:22:28.319872Z",
     "start_time": "2024-11-28T02:22:28.297928Z"
    }
   },
   "cell_type": "code",
   "source": "kaggle_predictions.head()",
   "id": "7fbe68a0472e19a7",
   "outputs": [
    {
     "data": {
      "text/plain": [
       "      target\n",
       "0  11.219907\n",
       "1  79.699860\n",
       "2   7.495621\n",
       "3  38.511837\n",
       "4  64.757800"
      ],
      "text/html": [
       "<div>\n",
       "<style scoped>\n",
       "    .dataframe tbody tr th:only-of-type {\n",
       "        vertical-align: middle;\n",
       "    }\n",
       "\n",
       "    .dataframe tbody tr th {\n",
       "        vertical-align: top;\n",
       "    }\n",
       "\n",
       "    .dataframe thead th {\n",
       "        text-align: right;\n",
       "    }\n",
       "</style>\n",
       "<table border=\"1\" class=\"dataframe\">\n",
       "  <thead>\n",
       "    <tr style=\"text-align: right;\">\n",
       "      <th></th>\n",
       "      <th>target</th>\n",
       "    </tr>\n",
       "  </thead>\n",
       "  <tbody>\n",
       "    <tr>\n",
       "      <th>0</th>\n",
       "      <td>11.219907</td>\n",
       "    </tr>\n",
       "    <tr>\n",
       "      <th>1</th>\n",
       "      <td>79.699860</td>\n",
       "    </tr>\n",
       "    <tr>\n",
       "      <th>2</th>\n",
       "      <td>7.495621</td>\n",
       "    </tr>\n",
       "    <tr>\n",
       "      <th>3</th>\n",
       "      <td>38.511837</td>\n",
       "    </tr>\n",
       "    <tr>\n",
       "      <th>4</th>\n",
       "      <td>64.757800</td>\n",
       "    </tr>\n",
       "  </tbody>\n",
       "</table>\n",
       "</div>"
      ]
     },
     "execution_count": 3,
     "metadata": {},
     "output_type": "execute_result"
    }
   ],
   "execution_count": 3
  },
  {
   "metadata": {
    "ExecuteTime": {
     "end_time": "2024-11-28T02:23:11.853615Z",
     "start_time": "2024-11-28T02:23:11.834324Z"
    }
   },
   "cell_type": "code",
   "source": "kaggle_predictions_from_predict.head()",
   "id": "3c891b2b819caafe",
   "outputs": [
    {
     "data": {
      "text/plain": [
       "      target\n",
       "0  11.219907\n",
       "1  79.699860\n",
       "2   7.495621\n",
       "3  38.511837\n",
       "4  64.757800"
      ],
      "text/html": [
       "<div>\n",
       "<style scoped>\n",
       "    .dataframe tbody tr th:only-of-type {\n",
       "        vertical-align: middle;\n",
       "    }\n",
       "\n",
       "    .dataframe tbody tr th {\n",
       "        vertical-align: top;\n",
       "    }\n",
       "\n",
       "    .dataframe thead th {\n",
       "        text-align: right;\n",
       "    }\n",
       "</style>\n",
       "<table border=\"1\" class=\"dataframe\">\n",
       "  <thead>\n",
       "    <tr style=\"text-align: right;\">\n",
       "      <th></th>\n",
       "      <th>target</th>\n",
       "    </tr>\n",
       "  </thead>\n",
       "  <tbody>\n",
       "    <tr>\n",
       "      <th>0</th>\n",
       "      <td>11.219907</td>\n",
       "    </tr>\n",
       "    <tr>\n",
       "      <th>1</th>\n",
       "      <td>79.699860</td>\n",
       "    </tr>\n",
       "    <tr>\n",
       "      <th>2</th>\n",
       "      <td>7.495621</td>\n",
       "    </tr>\n",
       "    <tr>\n",
       "      <th>3</th>\n",
       "      <td>38.511837</td>\n",
       "    </tr>\n",
       "    <tr>\n",
       "      <th>4</th>\n",
       "      <td>64.757800</td>\n",
       "    </tr>\n",
       "  </tbody>\n",
       "</table>\n",
       "</div>"
      ]
     },
     "execution_count": 4,
     "metadata": {},
     "output_type": "execute_result"
    }
   ],
   "execution_count": 4
  },
  {
   "metadata": {},
   "cell_type": "markdown",
   "source": "Check for mismatches, which might be caused by different systems and versions or incorrect inferencing.",
   "id": "9410ffd87ef0c328"
  },
  {
   "metadata": {
    "ExecuteTime": {
     "end_time": "2024-11-28T02:24:19.800788Z",
     "start_time": "2024-11-28T02:24:19.791327Z"
    }
   },
   "cell_type": "code",
   "source": "any(kaggle_predictions[\"target\"] != kaggle_predictions_from_predict[\"target\"])",
   "id": "5605d1f39f7bd0f9",
   "outputs": [
    {
     "data": {
      "text/plain": [
       "False"
      ]
     },
     "execution_count": 7,
     "metadata": {},
     "output_type": "execute_result"
    }
   ],
   "execution_count": 7
  },
  {
   "metadata": {},
   "cell_type": "markdown",
   "source": "No mismatches were found.",
   "id": "21eb64f15ea0e89f"
  },
  {
   "metadata": {},
   "cell_type": "markdown",
   "source": "",
   "id": "ab34d4d169bd3557"
  }
 ],
 "metadata": {
  "kernelspec": {
   "display_name": "Python 3",
   "language": "python",
   "name": "python3"
  },
  "language_info": {
   "codemirror_mode": {
    "name": "ipython",
    "version": 2
   },
   "file_extension": ".py",
   "mimetype": "text/x-python",
   "name": "python",
   "nbconvert_exporter": "python",
   "pygments_lexer": "ipython2",
   "version": "2.7.6"
  }
 },
 "nbformat": 4,
 "nbformat_minor": 5
}
